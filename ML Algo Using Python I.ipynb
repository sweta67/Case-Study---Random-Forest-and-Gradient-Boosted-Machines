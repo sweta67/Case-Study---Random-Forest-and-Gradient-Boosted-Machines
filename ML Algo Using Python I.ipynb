{
 "cells": [
  {
   "cell_type": "code",
   "execution_count": null,
   "metadata": {},
   "outputs": [],
   "source": [
    "# Q1: Read the data set named, Amsterdam.json\n",
    "# The number of rows in the raw file is …………"
   ]
  },
  {
   "cell_type": "code",
   "execution_count": 1,
   "metadata": {},
   "outputs": [],
   "source": [
    "# Answer 1 : 15181\n",
    "\n",
    "import pandas as pd"
   ]
  },
  {
   "cell_type": "code",
   "execution_count": 2,
   "metadata": {},
   "outputs": [],
   "source": [
    "amsterdam=pd.read_json('amsterdam.json')"
   ]
  },
  {
   "cell_type": "code",
   "execution_count": 3,
   "metadata": {},
   "outputs": [
    {
     "data": {
      "text/plain": [
       "pandas.core.frame.DataFrame"
      ]
     },
     "execution_count": 3,
     "metadata": {},
     "output_type": "execute_result"
    }
   ],
   "source": [
    "type(amsterdam)"
   ]
  },
  {
   "cell_type": "code",
   "execution_count": 4,
   "metadata": {},
   "outputs": [
    {
     "data": {
      "text/plain": [
       "15181"
      ]
     },
     "execution_count": 4,
     "metadata": {},
     "output_type": "execute_result"
    }
   ],
   "source": [
    "amsterdam.shape[0]"
   ]
  },
  {
   "cell_type": "code",
   "execution_count": null,
   "metadata": {},
   "outputs": [],
   "source": [
    "# Q2: Read the data set named, Amsterdam.json\n",
    "# Is the column named “Bathroom” in the data?"
   ]
  },
  {
   "cell_type": "code",
   "execution_count": 5,
   "metadata": {},
   "outputs": [
    {
     "data": {
      "text/plain": [
       "['host_listings_count',\n",
       " 'accommodates',\n",
       " 'bathrooms',\n",
       " 'bedrooms',\n",
       " 'guests_included',\n",
       " 'minimum_nights',\n",
       " 'number_of_reviews',\n",
       " 'calculated_host_listings_count',\n",
       " 'price',\n",
       " 'latitude',\n",
       " 'longitude',\n",
       " 'room_type',\n",
       " 'instant_bookable']"
      ]
     },
     "execution_count": 5,
     "metadata": {},
     "output_type": "execute_result"
    }
   ],
   "source": [
    "# Answer 2 : No\n",
    "\n",
    "amsterdam.columns.tolist()"
   ]
  },
  {
   "cell_type": "code",
   "execution_count": null,
   "metadata": {},
   "outputs": [],
   "source": [
    "# Q3: Read the data set named, Amsterdam.json\n",
    "# Column named as “bedrooms” has 12 missing values?"
   ]
  },
  {
   "cell_type": "code",
   "execution_count": 6,
   "metadata": {},
   "outputs": [
    {
     "data": {
      "text/plain": [
       "host_listings_count                3\n",
       "accommodates                       0\n",
       "bathrooms                         18\n",
       "bedrooms                          12\n",
       "guests_included                    0\n",
       "minimum_nights                     0\n",
       "number_of_reviews                  0\n",
       "calculated_host_listings_count     0\n",
       "price                              0\n",
       "latitude                           0\n",
       "longitude                          0\n",
       "room_type                          0\n",
       "instant_bookable                   0\n",
       "dtype: int64"
      ]
     },
     "execution_count": 6,
     "metadata": {},
     "output_type": "execute_result"
    }
   ],
   "source": [
    "# Answer 3 : Yes\n",
    "\n",
    "amsterdam.isnull().sum()"
   ]
  },
  {
   "cell_type": "code",
   "execution_count": null,
   "metadata": {},
   "outputs": [],
   "source": [
    "# Q4: After you have read in the data and done some sanity checks, its time now to dig a little deep and \n",
    "# do some feature engineering\n",
    "# The variable latitude is a numeric variable in the dataframe you just read in"
   ]
  },
  {
   "cell_type": "code",
   "execution_count": 7,
   "metadata": {},
   "outputs": [
    {
     "data": {
      "text/plain": [
       "host_listings_count               float64\n",
       "accommodates                        int64\n",
       "bathrooms                         float64\n",
       "bedrooms                          float64\n",
       "guests_included                     int64\n",
       "minimum_nights                      int64\n",
       "number_of_reviews                   int64\n",
       "calculated_host_listings_count      int64\n",
       "price                              object\n",
       "latitude                          float64\n",
       "longitude                         float64\n",
       "room_type                          object\n",
       "instant_bookable                   object\n",
       "dtype: object"
      ]
     },
     "execution_count": 7,
     "metadata": {},
     "output_type": "execute_result"
    }
   ],
   "source": [
    "# Answer 4 : Yes\n",
    "\n",
    "amsterdam.dtypes"
   ]
  },
  {
   "cell_type": "code",
   "execution_count": null,
   "metadata": {},
   "outputs": [],
   "source": [
    "# Q5: After you have read in the data and done some sanity checks, its time now to dig a little deep and \n",
    "# do some feature engineering\n",
    "# The average value of price column is? (Round your answer to 3 decimal places using round"
   ]
  },
  {
   "cell_type": "code",
   "execution_count": 8,
   "metadata": {},
   "outputs": [
    {
     "data": {
      "text/html": [
       "<div>\n",
       "<style scoped>\n",
       "    .dataframe tbody tr th:only-of-type {\n",
       "        vertical-align: middle;\n",
       "    }\n",
       "\n",
       "    .dataframe tbody tr th {\n",
       "        vertical-align: top;\n",
       "    }\n",
       "\n",
       "    .dataframe thead th {\n",
       "        text-align: right;\n",
       "    }\n",
       "</style>\n",
       "<table border=\"1\" class=\"dataframe\">\n",
       "  <thead>\n",
       "    <tr style=\"text-align: right;\">\n",
       "      <th></th>\n",
       "      <th>host_listings_count</th>\n",
       "      <th>accommodates</th>\n",
       "      <th>bathrooms</th>\n",
       "      <th>bedrooms</th>\n",
       "      <th>guests_included</th>\n",
       "      <th>minimum_nights</th>\n",
       "      <th>number_of_reviews</th>\n",
       "      <th>calculated_host_listings_count</th>\n",
       "      <th>price</th>\n",
       "      <th>latitude</th>\n",
       "      <th>longitude</th>\n",
       "      <th>room_type</th>\n",
       "      <th>instant_bookable</th>\n",
       "    </tr>\n",
       "  </thead>\n",
       "  <tbody>\n",
       "    <tr>\n",
       "      <td>0</td>\n",
       "      <td>1.0</td>\n",
       "      <td>6</td>\n",
       "      <td>1.0</td>\n",
       "      <td>2.0</td>\n",
       "      <td>1</td>\n",
       "      <td>3</td>\n",
       "      <td>4</td>\n",
       "      <td>1</td>\n",
       "      <td>$145.00</td>\n",
       "      <td>52.361173</td>\n",
       "      <td>4.866755</td>\n",
       "      <td>Entire home/apt</td>\n",
       "      <td>f</td>\n",
       "    </tr>\n",
       "    <tr>\n",
       "      <td>1</td>\n",
       "      <td>1.0</td>\n",
       "      <td>2</td>\n",
       "      <td>1.0</td>\n",
       "      <td>1.0</td>\n",
       "      <td>1</td>\n",
       "      <td>2</td>\n",
       "      <td>17</td>\n",
       "      <td>1</td>\n",
       "      <td>$88.00</td>\n",
       "      <td>52.370237</td>\n",
       "      <td>4.859507</td>\n",
       "      <td>Entire home/apt</td>\n",
       "      <td>f</td>\n",
       "    </tr>\n",
       "    <tr>\n",
       "      <td>2</td>\n",
       "      <td>1.0</td>\n",
       "      <td>2</td>\n",
       "      <td>1.0</td>\n",
       "      <td>1.0</td>\n",
       "      <td>2</td>\n",
       "      <td>2</td>\n",
       "      <td>4</td>\n",
       "      <td>1</td>\n",
       "      <td>$130.00</td>\n",
       "      <td>52.362016</td>\n",
       "      <td>4.866872</td>\n",
       "      <td>Entire home/apt</td>\n",
       "      <td>f</td>\n",
       "    </tr>\n",
       "    <tr>\n",
       "      <td>3</td>\n",
       "      <td>2.0</td>\n",
       "      <td>4</td>\n",
       "      <td>1.0</td>\n",
       "      <td>2.0</td>\n",
       "      <td>2</td>\n",
       "      <td>4</td>\n",
       "      <td>2</td>\n",
       "      <td>2</td>\n",
       "      <td>$110.00</td>\n",
       "      <td>52.365826</td>\n",
       "      <td>4.858178</td>\n",
       "      <td>Entire home/apt</td>\n",
       "      <td>f</td>\n",
       "    </tr>\n",
       "    <tr>\n",
       "      <td>4</td>\n",
       "      <td>1.0</td>\n",
       "      <td>2</td>\n",
       "      <td>1.0</td>\n",
       "      <td>1.0</td>\n",
       "      <td>1</td>\n",
       "      <td>3</td>\n",
       "      <td>10</td>\n",
       "      <td>1</td>\n",
       "      <td>$115.00</td>\n",
       "      <td>52.364179</td>\n",
       "      <td>4.864885</td>\n",
       "      <td>Entire home/apt</td>\n",
       "      <td>f</td>\n",
       "    </tr>\n",
       "  </tbody>\n",
       "</table>\n",
       "</div>"
      ],
      "text/plain": [
       "   host_listings_count  accommodates  bathrooms  bedrooms  guests_included  \\\n",
       "0                  1.0             6        1.0       2.0                1   \n",
       "1                  1.0             2        1.0       1.0                1   \n",
       "2                  1.0             2        1.0       1.0                2   \n",
       "3                  2.0             4        1.0       2.0                2   \n",
       "4                  1.0             2        1.0       1.0                1   \n",
       "\n",
       "   minimum_nights  number_of_reviews  calculated_host_listings_count    price  \\\n",
       "0               3                  4                               1  $145.00   \n",
       "1               2                 17                               1   $88.00   \n",
       "2               2                  4                               1  $130.00   \n",
       "3               4                  2                               2  $110.00   \n",
       "4               3                 10                               1  $115.00   \n",
       "\n",
       "    latitude  longitude        room_type instant_bookable  \n",
       "0  52.361173   4.866755  Entire home/apt                f  \n",
       "1  52.370237   4.859507  Entire home/apt                f  \n",
       "2  52.362016   4.866872  Entire home/apt                f  \n",
       "3  52.365826   4.858178  Entire home/apt                f  \n",
       "4  52.364179   4.864885  Entire home/apt                f  "
      ]
     },
     "execution_count": 8,
     "metadata": {},
     "output_type": "execute_result"
    }
   ],
   "source": [
    "# Answer 5 : 134.799\n",
    "\n",
    "amsterdam.head()"
   ]
  },
  {
   "cell_type": "code",
   "execution_count": 9,
   "metadata": {},
   "outputs": [],
   "source": [
    "amsterdam['price']=amsterdam.price.str.replace('$','')\n",
    "amsterdam['price']=amsterdam.price.str.replace(',','')"
   ]
  },
  {
   "cell_type": "code",
   "execution_count": 10,
   "metadata": {},
   "outputs": [],
   "source": [
    "amsterdam['price']=amsterdam.price.astype(float)"
   ]
  },
  {
   "cell_type": "code",
   "execution_count": 11,
   "metadata": {},
   "outputs": [],
   "source": [
    "mean_price=amsterdam.price.mean()"
   ]
  },
  {
   "cell_type": "code",
   "execution_count": 12,
   "metadata": {},
   "outputs": [
    {
     "data": {
      "text/plain": [
       "134.799"
      ]
     },
     "execution_count": 12,
     "metadata": {},
     "output_type": "execute_result"
    }
   ],
   "source": [
    "round(mean_price,3)"
   ]
  },
  {
   "cell_type": "code",
   "execution_count": null,
   "metadata": {},
   "outputs": [],
   "source": [
    "# Q6 : After you have read in the data and done some sanity checks, its time now to dig a little deep and \n",
    "# do some feature engineering\n",
    "# The maximum value in the price column is? (Rounded to 1 decimal place, use round"
   ]
  },
  {
   "cell_type": "code",
   "execution_count": 13,
   "metadata": {},
   "outputs": [],
   "source": [
    "# Answer 6 : 3142.0\n",
    "\n",
    "max_price=amsterdam.price.max()"
   ]
  },
  {
   "cell_type": "code",
   "execution_count": 14,
   "metadata": {},
   "outputs": [
    {
     "data": {
      "text/plain": [
       "3142.0"
      ]
     },
     "execution_count": 14,
     "metadata": {},
     "output_type": "execute_result"
    }
   ],
   "source": [
    "round(max_price,1)"
   ]
  },
  {
   "cell_type": "code",
   "execution_count": null,
   "metadata": {},
   "outputs": [],
   "source": [
    "# Q7 : After you have read in the data and done some sanity checks, its time now to dig a little deep and \n",
    "# do some feature engineering\n",
    "# What is the 99th percentile in the price column? (Rounded to 1 decimal place, use round"
   ]
  },
  {
   "cell_type": "code",
   "execution_count": 15,
   "metadata": {},
   "outputs": [],
   "source": [
    "# Answer 7 : 440.0\n",
    "\n",
    "perc99=amsterdam.price.quantile(0.99)"
   ]
  },
  {
   "cell_type": "code",
   "execution_count": 16,
   "metadata": {},
   "outputs": [
    {
     "data": {
      "text/plain": [
       "440.0"
      ]
     },
     "execution_count": 16,
     "metadata": {},
     "output_type": "execute_result"
    }
   ],
   "source": [
    "round(perc99,1)"
   ]
  },
  {
   "cell_type": "code",
   "execution_count": null,
   "metadata": {},
   "outputs": [],
   "source": [
    "# Q8 : After you have read in the data and done some sanity checks, its time now to dig a little deep and \n",
    "# do some feature engineering\n",
    "# Remove all the rows, where values in the price column are more than 440.0. What is the 90th percentile now? \n",
    "# (Round your answer to 1 decimal point, use round"
   ]
  },
  {
   "cell_type": "code",
   "execution_count": 17,
   "metadata": {},
   "outputs": [],
   "source": [
    "# Answer 8 : 210.0\n",
    "\n",
    "amsterdam.drop(amsterdam[amsterdam['price']>440.0].index,inplace=True)"
   ]
  },
  {
   "cell_type": "code",
   "execution_count": 18,
   "metadata": {},
   "outputs": [
    {
     "data": {
      "text/plain": [
       "440.0"
      ]
     },
     "execution_count": 18,
     "metadata": {},
     "output_type": "execute_result"
    }
   ],
   "source": [
    "amsterdam.price.max()"
   ]
  },
  {
   "cell_type": "code",
   "execution_count": 19,
   "metadata": {},
   "outputs": [],
   "source": [
    "per90=amsterdam.price.quantile(0.9)"
   ]
  },
  {
   "cell_type": "code",
   "execution_count": 20,
   "metadata": {},
   "outputs": [
    {
     "data": {
      "text/plain": [
       "210.0"
      ]
     },
     "execution_count": 20,
     "metadata": {},
     "output_type": "execute_result"
    }
   ],
   "source": [
    "round(per90,1)"
   ]
  },
  {
   "cell_type": "code",
   "execution_count": null,
   "metadata": {},
   "outputs": [],
   "source": [
    "# Q9 : After you have read in the data and done some sanity checks, its time now to dig a little deep and \n",
    "# do some feature engineering\n",
    "# Drop all the missing values in the data. How many rows are now left in the data?"
   ]
  },
  {
   "cell_type": "code",
   "execution_count": 21,
   "metadata": {},
   "outputs": [],
   "source": [
    "# Answer 9 : 14998\n",
    "\n",
    "amsterdam=amsterdam.dropna(axis=0)"
   ]
  },
  {
   "cell_type": "code",
   "execution_count": 22,
   "metadata": {},
   "outputs": [
    {
     "data": {
      "text/plain": [
       "host_listings_count               0\n",
       "accommodates                      0\n",
       "bathrooms                         0\n",
       "bedrooms                          0\n",
       "guests_included                   0\n",
       "minimum_nights                    0\n",
       "number_of_reviews                 0\n",
       "calculated_host_listings_count    0\n",
       "price                             0\n",
       "latitude                          0\n",
       "longitude                         0\n",
       "room_type                         0\n",
       "instant_bookable                  0\n",
       "dtype: int64"
      ]
     },
     "execution_count": 22,
     "metadata": {},
     "output_type": "execute_result"
    }
   ],
   "source": [
    "amsterdam.isnull().sum()"
   ]
  },
  {
   "cell_type": "code",
   "execution_count": 23,
   "metadata": {},
   "outputs": [
    {
     "data": {
      "text/plain": [
       "14998"
      ]
     },
     "execution_count": 23,
     "metadata": {},
     "output_type": "execute_result"
    }
   ],
   "source": [
    "amsterdam.shape[0]"
   ]
  },
  {
   "cell_type": "code",
   "execution_count": null,
   "metadata": {},
   "outputs": [],
   "source": [
    "# Q10 : One of the key points, that folks at your company want to know is, if prices differ as a function of their distance \n",
    "# from city centre.\n",
    "\n",
    "# Write a function to find the distance of all the observations in your data from the city centre in km units. \n",
    "# You can assume that the city centre has a latitude = 52.379189 and longitude = 4.899431. You can find out distances using \n",
    "# haversine formula, you can read more about it here \n",
    "# https://stackoverflow.com/questions/29545704/fast-haversine-approximation-python-pandas (Links to an external site.). \n",
    "# Once you have applied the haversine transform, create a new column named “d_centre”, arrange your data by distance in \n",
    "# ascending order. The second booking in this sorted list has a price of (round to 1 decimal place)"
   ]
  },
  {
   "cell_type": "code",
   "execution_count": 24,
   "metadata": {},
   "outputs": [],
   "source": [
    "# Answer 10 : 41.0\n",
    "\n",
    "amsterdam=pd.get_dummies(amsterdam)"
   ]
  },
  {
   "cell_type": "code",
   "execution_count": 25,
   "metadata": {},
   "outputs": [],
   "source": [
    "import numpy as np\n",
    "\n",
    "def haversine_np(lon1,lat1,lon2,lat2):\n",
    "    lon1,lat1,lon2,lat2=map(np.radians,[lon1,lat1,lon2,lat2])\n",
    "    \n",
    "    dlon=lon2-lon1\n",
    "    dlat=lat2-lat1\n",
    "    \n",
    "    a=np.sin(dlat/2.0)**2+np.cos(lat1)*np.cos(lat2)*np.sin(dlon/2.0)**2\n",
    "    c=2*np.arcsin(np.sqrt(a))\n",
    "    km=6367*c\n",
    "    \n",
    "    return km\n",
    "    \n",
    "amsterdam['d_centre']=haversine_np(4.899431,52.379189 ,amsterdam['longitude'],amsterdam['latitude'])"
   ]
  },
  {
   "cell_type": "code",
   "execution_count": 26,
   "metadata": {},
   "outputs": [
    {
     "data": {
      "text/html": [
       "<div>\n",
       "<style scoped>\n",
       "    .dataframe tbody tr th:only-of-type {\n",
       "        vertical-align: middle;\n",
       "    }\n",
       "\n",
       "    .dataframe tbody tr th {\n",
       "        vertical-align: top;\n",
       "    }\n",
       "\n",
       "    .dataframe thead th {\n",
       "        text-align: right;\n",
       "    }\n",
       "</style>\n",
       "<table border=\"1\" class=\"dataframe\">\n",
       "  <thead>\n",
       "    <tr style=\"text-align: right;\">\n",
       "      <th></th>\n",
       "      <th>host_listings_count</th>\n",
       "      <th>accommodates</th>\n",
       "      <th>bathrooms</th>\n",
       "      <th>bedrooms</th>\n",
       "      <th>guests_included</th>\n",
       "      <th>minimum_nights</th>\n",
       "      <th>number_of_reviews</th>\n",
       "      <th>calculated_host_listings_count</th>\n",
       "      <th>price</th>\n",
       "      <th>latitude</th>\n",
       "      <th>longitude</th>\n",
       "      <th>room_type_Entire home/apt</th>\n",
       "      <th>room_type_Private room</th>\n",
       "      <th>room_type_Shared room</th>\n",
       "      <th>instant_bookable_f</th>\n",
       "      <th>instant_bookable_t</th>\n",
       "      <th>d_centre</th>\n",
       "    </tr>\n",
       "  </thead>\n",
       "  <tbody>\n",
       "    <tr>\n",
       "      <td>3158</td>\n",
       "      <td>1.0</td>\n",
       "      <td>2</td>\n",
       "      <td>1.5</td>\n",
       "      <td>1.0</td>\n",
       "      <td>1</td>\n",
       "      <td>1</td>\n",
       "      <td>0</td>\n",
       "      <td>1</td>\n",
       "      <td>85.0</td>\n",
       "      <td>52.378546</td>\n",
       "      <td>4.900775</td>\n",
       "      <td>0</td>\n",
       "      <td>1</td>\n",
       "      <td>0</td>\n",
       "      <td>1</td>\n",
       "      <td>0</td>\n",
       "      <td>0.115801</td>\n",
       "    </tr>\n",
       "    <tr>\n",
       "      <td>3168</td>\n",
       "      <td>1.0</td>\n",
       "      <td>4</td>\n",
       "      <td>1.0</td>\n",
       "      <td>1.0</td>\n",
       "      <td>1</td>\n",
       "      <td>1</td>\n",
       "      <td>0</td>\n",
       "      <td>1</td>\n",
       "      <td>41.0</td>\n",
       "      <td>52.378850</td>\n",
       "      <td>4.901433</td>\n",
       "      <td>0</td>\n",
       "      <td>0</td>\n",
       "      <td>1</td>\n",
       "      <td>1</td>\n",
       "      <td>0</td>\n",
       "      <td>0.140946</td>\n",
       "    </tr>\n",
       "    <tr>\n",
       "      <td>2639</td>\n",
       "      <td>1.0</td>\n",
       "      <td>4</td>\n",
       "      <td>1.0</td>\n",
       "      <td>1.0</td>\n",
       "      <td>2</td>\n",
       "      <td>3</td>\n",
       "      <td>27</td>\n",
       "      <td>1</td>\n",
       "      <td>159.0</td>\n",
       "      <td>52.379089</td>\n",
       "      <td>4.897293</td>\n",
       "      <td>1</td>\n",
       "      <td>0</td>\n",
       "      <td>0</td>\n",
       "      <td>1</td>\n",
       "      <td>0</td>\n",
       "      <td>0.145468</td>\n",
       "    </tr>\n",
       "    <tr>\n",
       "      <td>3010</td>\n",
       "      <td>4.0</td>\n",
       "      <td>2</td>\n",
       "      <td>1.0</td>\n",
       "      <td>1.0</td>\n",
       "      <td>1</td>\n",
       "      <td>1</td>\n",
       "      <td>4</td>\n",
       "      <td>4</td>\n",
       "      <td>150.0</td>\n",
       "      <td>52.378549</td>\n",
       "      <td>4.896679</td>\n",
       "      <td>0</td>\n",
       "      <td>1</td>\n",
       "      <td>0</td>\n",
       "      <td>0</td>\n",
       "      <td>1</td>\n",
       "      <td>0.199767</td>\n",
       "    </tr>\n",
       "    <tr>\n",
       "      <td>1860</td>\n",
       "      <td>1.0</td>\n",
       "      <td>2</td>\n",
       "      <td>1.0</td>\n",
       "      <td>1.0</td>\n",
       "      <td>1</td>\n",
       "      <td>1</td>\n",
       "      <td>9</td>\n",
       "      <td>1</td>\n",
       "      <td>120.0</td>\n",
       "      <td>52.378398</td>\n",
       "      <td>4.896674</td>\n",
       "      <td>0</td>\n",
       "      <td>1</td>\n",
       "      <td>0</td>\n",
       "      <td>1</td>\n",
       "      <td>0</td>\n",
       "      <td>0.206638</td>\n",
       "    </tr>\n",
       "    <tr>\n",
       "      <td>...</td>\n",
       "      <td>...</td>\n",
       "      <td>...</td>\n",
       "      <td>...</td>\n",
       "      <td>...</td>\n",
       "      <td>...</td>\n",
       "      <td>...</td>\n",
       "      <td>...</td>\n",
       "      <td>...</td>\n",
       "      <td>...</td>\n",
       "      <td>...</td>\n",
       "      <td>...</td>\n",
       "      <td>...</td>\n",
       "      <td>...</td>\n",
       "      <td>...</td>\n",
       "      <td>...</td>\n",
       "      <td>...</td>\n",
       "      <td>...</td>\n",
       "    </tr>\n",
       "    <tr>\n",
       "      <td>6804</td>\n",
       "      <td>1.0</td>\n",
       "      <td>3</td>\n",
       "      <td>1.0</td>\n",
       "      <td>1.0</td>\n",
       "      <td>2</td>\n",
       "      <td>2</td>\n",
       "      <td>37</td>\n",
       "      <td>1</td>\n",
       "      <td>40.0</td>\n",
       "      <td>52.290687</td>\n",
       "      <td>4.983784</td>\n",
       "      <td>0</td>\n",
       "      <td>1</td>\n",
       "      <td>0</td>\n",
       "      <td>1</td>\n",
       "      <td>0</td>\n",
       "      <td>11.381113</td>\n",
       "    </tr>\n",
       "    <tr>\n",
       "      <td>6779</td>\n",
       "      <td>1.0</td>\n",
       "      <td>4</td>\n",
       "      <td>1.0</td>\n",
       "      <td>3.0</td>\n",
       "      <td>1</td>\n",
       "      <td>3</td>\n",
       "      <td>1</td>\n",
       "      <td>1</td>\n",
       "      <td>101.0</td>\n",
       "      <td>52.292209</td>\n",
       "      <td>4.989963</td>\n",
       "      <td>1</td>\n",
       "      <td>0</td>\n",
       "      <td>0</td>\n",
       "      <td>1</td>\n",
       "      <td>0</td>\n",
       "      <td>11.454847</td>\n",
       "    </tr>\n",
       "    <tr>\n",
       "      <td>6791</td>\n",
       "      <td>1.0</td>\n",
       "      <td>2</td>\n",
       "      <td>1.0</td>\n",
       "      <td>1.0</td>\n",
       "      <td>1</td>\n",
       "      <td>1</td>\n",
       "      <td>22</td>\n",
       "      <td>1</td>\n",
       "      <td>50.0</td>\n",
       "      <td>52.292890</td>\n",
       "      <td>4.995102</td>\n",
       "      <td>0</td>\n",
       "      <td>1</td>\n",
       "      <td>0</td>\n",
       "      <td>0</td>\n",
       "      <td>1</td>\n",
       "      <td>11.583068</td>\n",
       "    </tr>\n",
       "    <tr>\n",
       "      <td>6766</td>\n",
       "      <td>1.0</td>\n",
       "      <td>2</td>\n",
       "      <td>1.0</td>\n",
       "      <td>1.0</td>\n",
       "      <td>1</td>\n",
       "      <td>2</td>\n",
       "      <td>5</td>\n",
       "      <td>1</td>\n",
       "      <td>50.0</td>\n",
       "      <td>52.291664</td>\n",
       "      <td>4.992333</td>\n",
       "      <td>0</td>\n",
       "      <td>1</td>\n",
       "      <td>0</td>\n",
       "      <td>1</td>\n",
       "      <td>0</td>\n",
       "      <td>11.592780</td>\n",
       "    </tr>\n",
       "    <tr>\n",
       "      <td>6764</td>\n",
       "      <td>1.0</td>\n",
       "      <td>3</td>\n",
       "      <td>1.0</td>\n",
       "      <td>3.0</td>\n",
       "      <td>1</td>\n",
       "      <td>30</td>\n",
       "      <td>0</td>\n",
       "      <td>1</td>\n",
       "      <td>83.0</td>\n",
       "      <td>52.302752</td>\n",
       "      <td>5.020968</td>\n",
       "      <td>1</td>\n",
       "      <td>0</td>\n",
       "      <td>0</td>\n",
       "      <td>1</td>\n",
       "      <td>0</td>\n",
       "      <td>11.842162</td>\n",
       "    </tr>\n",
       "  </tbody>\n",
       "</table>\n",
       "<p>14998 rows × 17 columns</p>\n",
       "</div>"
      ],
      "text/plain": [
       "      host_listings_count  accommodates  bathrooms  bedrooms  guests_included  \\\n",
       "3158                  1.0             2        1.5       1.0                1   \n",
       "3168                  1.0             4        1.0       1.0                1   \n",
       "2639                  1.0             4        1.0       1.0                2   \n",
       "3010                  4.0             2        1.0       1.0                1   \n",
       "1860                  1.0             2        1.0       1.0                1   \n",
       "...                   ...           ...        ...       ...              ...   \n",
       "6804                  1.0             3        1.0       1.0                2   \n",
       "6779                  1.0             4        1.0       3.0                1   \n",
       "6791                  1.0             2        1.0       1.0                1   \n",
       "6766                  1.0             2        1.0       1.0                1   \n",
       "6764                  1.0             3        1.0       3.0                1   \n",
       "\n",
       "      minimum_nights  number_of_reviews  calculated_host_listings_count  \\\n",
       "3158               1                  0                               1   \n",
       "3168               1                  0                               1   \n",
       "2639               3                 27                               1   \n",
       "3010               1                  4                               4   \n",
       "1860               1                  9                               1   \n",
       "...              ...                ...                             ...   \n",
       "6804               2                 37                               1   \n",
       "6779               3                  1                               1   \n",
       "6791               1                 22                               1   \n",
       "6766               2                  5                               1   \n",
       "6764              30                  0                               1   \n",
       "\n",
       "      price   latitude  longitude  room_type_Entire home/apt  \\\n",
       "3158   85.0  52.378546   4.900775                          0   \n",
       "3168   41.0  52.378850   4.901433                          0   \n",
       "2639  159.0  52.379089   4.897293                          1   \n",
       "3010  150.0  52.378549   4.896679                          0   \n",
       "1860  120.0  52.378398   4.896674                          0   \n",
       "...     ...        ...        ...                        ...   \n",
       "6804   40.0  52.290687   4.983784                          0   \n",
       "6779  101.0  52.292209   4.989963                          1   \n",
       "6791   50.0  52.292890   4.995102                          0   \n",
       "6766   50.0  52.291664   4.992333                          0   \n",
       "6764   83.0  52.302752   5.020968                          1   \n",
       "\n",
       "      room_type_Private room  room_type_Shared room  instant_bookable_f  \\\n",
       "3158                       1                      0                   1   \n",
       "3168                       0                      1                   1   \n",
       "2639                       0                      0                   1   \n",
       "3010                       1                      0                   0   \n",
       "1860                       1                      0                   1   \n",
       "...                      ...                    ...                 ...   \n",
       "6804                       1                      0                   1   \n",
       "6779                       0                      0                   1   \n",
       "6791                       1                      0                   0   \n",
       "6766                       1                      0                   1   \n",
       "6764                       0                      0                   1   \n",
       "\n",
       "      instant_bookable_t   d_centre  \n",
       "3158                   0   0.115801  \n",
       "3168                   0   0.140946  \n",
       "2639                   0   0.145468  \n",
       "3010                   1   0.199767  \n",
       "1860                   0   0.206638  \n",
       "...                  ...        ...  \n",
       "6804                   0  11.381113  \n",
       "6779                   0  11.454847  \n",
       "6791                   1  11.583068  \n",
       "6766                   0  11.592780  \n",
       "6764                   0  11.842162  \n",
       "\n",
       "[14998 rows x 17 columns]"
      ]
     },
     "execution_count": 26,
     "metadata": {},
     "output_type": "execute_result"
    }
   ],
   "source": [
    "amsterdam.sort_values(by='d_centre', ascending=True)"
   ]
  },
  {
   "cell_type": "code",
   "execution_count": 27,
   "metadata": {},
   "outputs": [
    {
     "data": {
      "text/plain": [
       "41.0"
      ]
     },
     "execution_count": 27,
     "metadata": {},
     "output_type": "execute_result"
    }
   ],
   "source": [
    "round(41.0,1)"
   ]
  },
  {
   "cell_type": "code",
   "execution_count": null,
   "metadata": {},
   "outputs": [],
   "source": [
    "# Q11 : One of the key points, that folks at your company want to know is, if prices differ as a function of their distance \n",
    "# from city centre\n",
    "# The average price of Private Rooms that are less than or equal to 1 km from city centre is (Round to 1 decimal place)"
   ]
  },
  {
   "cell_type": "code",
   "execution_count": 28,
   "metadata": {},
   "outputs": [],
   "source": [
    "# Answer 11 : 118.1\n",
    "\n",
    "amsterdam1=amsterdam[amsterdam['room_type_Private room']==1]"
   ]
  },
  {
   "cell_type": "code",
   "execution_count": 29,
   "metadata": {},
   "outputs": [],
   "source": [
    "amsterdam1=amsterdam1[amsterdam1['d_centre']<=1]"
   ]
  },
  {
   "cell_type": "code",
   "execution_count": 30,
   "metadata": {},
   "outputs": [],
   "source": [
    "avg_price=amsterdam1.price.mean()"
   ]
  },
  {
   "cell_type": "code",
   "execution_count": 31,
   "metadata": {},
   "outputs": [
    {
     "data": {
      "text/plain": [
       "118.1"
      ]
     },
     "execution_count": 31,
     "metadata": {},
     "output_type": "execute_result"
    }
   ],
   "source": [
    "round(avg_price,1)"
   ]
  },
  {
   "cell_type": "code",
   "execution_count": null,
   "metadata": {},
   "outputs": [],
   "source": [
    "# Q12 : Now that you have done some initial data exploration and feature engineering, its time now,to build a regression model. \n",
    "# Before you start building a regression model, you will need to prepare your data.\n",
    "# Create a predictor matrix X, after creating dummies for categorical data. How many columns X will have?"
   ]
  },
  {
   "cell_type": "code",
   "execution_count": 32,
   "metadata": {},
   "outputs": [],
   "source": [
    "# Answer 12 : 16\n",
    "\n",
    "X=amsterdam.drop(\"price\",axis=1)"
   ]
  },
  {
   "cell_type": "code",
   "execution_count": 33,
   "metadata": {},
   "outputs": [
    {
     "data": {
      "text/plain": [
       "(14998, 16)"
      ]
     },
     "execution_count": 33,
     "metadata": {},
     "output_type": "execute_result"
    }
   ],
   "source": [
    "X.shape"
   ]
  },
  {
   "cell_type": "code",
   "execution_count": 34,
   "metadata": {},
   "outputs": [],
   "source": [
    "y=amsterdam['price']"
   ]
  },
  {
   "cell_type": "code",
   "execution_count": null,
   "metadata": {},
   "outputs": [],
   "source": [
    "# Q13 : Now that you have done some initial data exploration and feature engineering, its time now,to build a regression model. \n",
    "# Before you start building a regression model, you will need to prepare your data.\n",
    "\n",
    "# Partition your data into test and train sets, Use a random_state of 200 (sklearn.model_selection.train_test_split())to split \n",
    "# your data into 70% trainset and 30% test set. The absolute difference between mean of “accommodates” column in both test and \n",
    "# train data sets is (Round to 3 decimal places)"
   ]
  },
  {
   "cell_type": "code",
   "execution_count": 35,
   "metadata": {},
   "outputs": [],
   "source": [
    "# Answer 13 : 0.003\n",
    "\n",
    "import sklearn.model_selection as model_selection\n",
    "X_train,X_test,y_train,y_test=model_selection.train_test_split(X,y,test_size=0.30,random_state=200)"
   ]
  },
  {
   "cell_type": "code",
   "execution_count": 36,
   "metadata": {},
   "outputs": [],
   "source": [
    "abs_mean_diff=abs(X_test['accommodates'].mean()-X_train['accommodates'].mean())"
   ]
  },
  {
   "cell_type": "code",
   "execution_count": 37,
   "metadata": {},
   "outputs": [
    {
     "data": {
      "text/plain": [
       "0.003"
      ]
     },
     "execution_count": 37,
     "metadata": {},
     "output_type": "execute_result"
    }
   ],
   "source": [
    "round(abs_mean_diff,3)"
   ]
  },
  {
   "cell_type": "code",
   "execution_count": null,
   "metadata": {},
   "outputs": [],
   "source": [
    "# Q14 : Now create an ensemble regressor model, use a RandomForestRegressor, to build and finalize a model. Do a grid search on \n",
    "# n_estimators, with a grid of [30,40,50,60,70,………………600]. Keep a random_state of 200 (for reproducibility of results). \n",
    "# Use OOB to tune. Keep max_features=”sqrt”\n",
    "\n",
    "# The maximum out of bag score (OOB) occurs at n_estimator =\n",
    "\n",
    "# Hint: If you are getting memory allocation error, build separate models for each value of grid and save the OOB score then \n",
    "# find the optimum."
   ]
  },
  {
   "cell_type": "code",
   "execution_count": 38,
   "metadata": {},
   "outputs": [
    {
     "name": "stdout",
     "output_type": "stream",
     "text": [
      "For n_estimators=30\n",
      "OOB Score is 0.5379078866664242\n",
      "*****************************************************\n",
      "For n_estimators=40\n",
      "OOB Score is 0.5478802608384239\n",
      "*****************************************************\n",
      "For n_estimators=50\n",
      "OOB Score is 0.5530474444114948\n",
      "*****************************************************\n",
      "For n_estimators=60\n",
      "OOB Score is 0.5579335875987974\n",
      "*****************************************************\n",
      "For n_estimators=70\n",
      "OOB Score is 0.5603034710522897\n",
      "*****************************************************\n",
      "For n_estimators=80\n",
      "OOB Score is 0.5635906070801552\n",
      "*****************************************************\n",
      "For n_estimators=90\n",
      "OOB Score is 0.566877726483203\n",
      "*****************************************************\n",
      "For n_estimators=100\n",
      "OOB Score is 0.5673897548008631\n",
      "*****************************************************\n",
      "For n_estimators=110\n",
      "OOB Score is 0.5683122791083096\n",
      "*****************************************************\n",
      "For n_estimators=120\n",
      "OOB Score is 0.5691249830103406\n",
      "*****************************************************\n",
      "For n_estimators=130\n",
      "OOB Score is 0.5696455092545987\n",
      "*****************************************************\n",
      "For n_estimators=140\n",
      "OOB Score is 0.5699646097894091\n",
      "*****************************************************\n",
      "For n_estimators=150\n",
      "OOB Score is 0.5704388625600711\n",
      "*****************************************************\n",
      "For n_estimators=160\n",
      "OOB Score is 0.570887847630225\n",
      "*****************************************************\n",
      "For n_estimators=170\n",
      "OOB Score is 0.5710390262933429\n",
      "*****************************************************\n",
      "For n_estimators=180\n",
      "OOB Score is 0.5715390512494789\n",
      "*****************************************************\n",
      "For n_estimators=190\n",
      "OOB Score is 0.5708757189116225\n",
      "*****************************************************\n",
      "For n_estimators=200\n",
      "OOB Score is 0.5710927345178555\n",
      "*****************************************************\n",
      "For n_estimators=210\n",
      "OOB Score is 0.571792696087501\n",
      "*****************************************************\n",
      "For n_estimators=220\n",
      "OOB Score is 0.5721205900977318\n",
      "*****************************************************\n",
      "For n_estimators=230\n",
      "OOB Score is 0.5725219575066611\n",
      "*****************************************************\n",
      "For n_estimators=240\n",
      "OOB Score is 0.5730790593338977\n",
      "*****************************************************\n",
      "For n_estimators=250\n",
      "OOB Score is 0.5732490965187111\n",
      "*****************************************************\n",
      "For n_estimators=260\n",
      "OOB Score is 0.5731108046461637\n",
      "*****************************************************\n",
      "For n_estimators=270\n",
      "OOB Score is 0.5733366292804027\n",
      "*****************************************************\n",
      "For n_estimators=280\n",
      "OOB Score is 0.5737838018012039\n",
      "*****************************************************\n",
      "For n_estimators=290\n",
      "OOB Score is 0.5740413523209188\n",
      "*****************************************************\n",
      "For n_estimators=300\n",
      "OOB Score is 0.5742554644762432\n",
      "*****************************************************\n",
      "For n_estimators=310\n",
      "OOB Score is 0.5743373981027057\n",
      "*****************************************************\n",
      "For n_estimators=320\n",
      "OOB Score is 0.5743854382236357\n",
      "*****************************************************\n",
      "For n_estimators=330\n",
      "OOB Score is 0.5745822566206474\n",
      "*****************************************************\n",
      "For n_estimators=340\n",
      "OOB Score is 0.5747586810769041\n",
      "*****************************************************\n",
      "For n_estimators=350\n",
      "OOB Score is 0.5749619865883899\n",
      "*****************************************************\n",
      "For n_estimators=360\n",
      "OOB Score is 0.5752537920733631\n",
      "*****************************************************\n",
      "For n_estimators=370\n",
      "OOB Score is 0.5753553852587302\n",
      "*****************************************************\n",
      "For n_estimators=380\n",
      "OOB Score is 0.5757083846822326\n",
      "*****************************************************\n",
      "For n_estimators=390\n",
      "OOB Score is 0.57617095694062\n",
      "*****************************************************\n",
      "For n_estimators=400\n",
      "OOB Score is 0.576065162928443\n",
      "*****************************************************\n",
      "For n_estimators=410\n",
      "OOB Score is 0.5759230161906455\n",
      "*****************************************************\n",
      "For n_estimators=420\n",
      "OOB Score is 0.5760536910949592\n",
      "*****************************************************\n",
      "For n_estimators=430\n",
      "OOB Score is 0.5759172858242998\n",
      "*****************************************************\n",
      "For n_estimators=440\n",
      "OOB Score is 0.5760061241736151\n",
      "*****************************************************\n",
      "For n_estimators=450\n",
      "OOB Score is 0.5761671815476288\n",
      "*****************************************************\n",
      "For n_estimators=460\n",
      "OOB Score is 0.5762221046621954\n",
      "*****************************************************\n",
      "For n_estimators=470\n",
      "OOB Score is 0.5762012082404107\n",
      "*****************************************************\n",
      "For n_estimators=480\n",
      "OOB Score is 0.5762446725031634\n",
      "*****************************************************\n",
      "For n_estimators=490\n",
      "OOB Score is 0.5762870495093335\n",
      "*****************************************************\n",
      "For n_estimators=500\n",
      "OOB Score is 0.5761907098650213\n",
      "*****************************************************\n",
      "For n_estimators=510\n",
      "OOB Score is 0.5762415100025741\n",
      "*****************************************************\n",
      "For n_estimators=520\n",
      "OOB Score is 0.5761759177112178\n",
      "*****************************************************\n",
      "For n_estimators=530\n",
      "OOB Score is 0.576073564172116\n",
      "*****************************************************\n",
      "For n_estimators=540\n",
      "OOB Score is 0.5760154229819303\n",
      "*****************************************************\n",
      "For n_estimators=550\n",
      "OOB Score is 0.5761620117334365\n",
      "*****************************************************\n",
      "For n_estimators=560\n",
      "OOB Score is 0.5761739746262875\n",
      "*****************************************************\n",
      "For n_estimators=570\n",
      "OOB Score is 0.5761142595082172\n",
      "*****************************************************\n",
      "For n_estimators=580\n",
      "OOB Score is 0.5761048841555906\n",
      "*****************************************************\n",
      "For n_estimators=590\n",
      "OOB Score is 0.5761335496984692\n",
      "*****************************************************\n",
      "For n_estimators=600\n",
      "OOB Score is 0.5759831635127567\n",
      "*****************************************************\n",
      "Max oob score 0.5762870495093335\n"
     ]
    }
   ],
   "source": [
    "# Answer 14 : 490\n",
    "\n",
    "from sklearn.ensemble import RandomForestRegressor\n",
    "max=-1\n",
    "for i in range(30,601,10):\n",
    "    reg=RandomForestRegressor(n_estimators=i,max_features=\"sqrt\",oob_score=True,random_state=200)\n",
    "    reg.fit(X_train,y_train)\n",
    "    oob=reg.oob_score_\n",
    "    print(\"For n_estimators=\"+str(i))\n",
    "    print(\"OOB Score is \"+str(oob))\n",
    "    print(\"*****************************************************\")\n",
    "    if oob > max:\n",
    "        max=oob\n",
    "print(\"Max oob score \"+str(max))"
   ]
  },
  {
   "cell_type": "code",
   "execution_count": null,
   "metadata": {},
   "outputs": [],
   "source": [
    "# Q15 : Now create an ensemble regressor model, use a RandomForestRegressor, to build and finalize a model. Do a grid search on \n",
    "# n_estimators, with a grid of [30,40,50,60,70,………………600]. Keep a random_state of 200 (for reproducibility of results). \n",
    "# Use OOB to tune. Keep max_features=”sqrt”\n",
    "\n",
    "# The three most informative factors, determining price are:\n",
    "# (Hint: OOB score measures, R^2 , higher the oob score (in regression setting), better is the model)"
   ]
  },
  {
   "cell_type": "code",
   "execution_count": 39,
   "metadata": {},
   "outputs": [
    {
     "data": {
      "text/plain": [
       "RandomForestRegressor(bootstrap=True, criterion='mse', max_depth=None,\n",
       "                      max_features='sqrt', max_leaf_nodes=None,\n",
       "                      min_impurity_decrease=0.0, min_impurity_split=None,\n",
       "                      min_samples_leaf=1, min_samples_split=2,\n",
       "                      min_weight_fraction_leaf=0.0, n_estimators=490,\n",
       "                      n_jobs=None, oob_score=True, random_state=200, verbose=0,\n",
       "                      warm_start=False)"
      ]
     },
     "execution_count": 39,
     "metadata": {},
     "output_type": "execute_result"
    }
   ],
   "source": [
    "# Answer 15 : accommodates, bedrooms, d_centre \n",
    "\n",
    "#Finalizing model with n_estimators=490\n",
    "reg=RandomForestRegressor(n_estimators=490,oob_score=True,max_features=\"sqrt\",random_state=200)\n",
    "reg.fit(X_train,y_train)"
   ]
  },
  {
   "cell_type": "code",
   "execution_count": 40,
   "metadata": {},
   "outputs": [
    {
     "data": {
      "text/plain": [
       "accommodates                      0.182138\n",
       "bedrooms                          0.127020\n",
       "d_centre                          0.126390\n",
       "longitude                         0.113861\n",
       "latitude                          0.107859\n",
       "number_of_reviews                 0.061218\n",
       "guests_included                   0.059434\n",
       "bathrooms                         0.050925\n",
       "room_type_Entire home/apt         0.039980\n",
       "minimum_nights                    0.035135\n",
       "room_type_Private room            0.033590\n",
       "calculated_host_listings_count    0.025790\n",
       "host_listings_count               0.022767\n",
       "instant_bookable_f                0.006478\n",
       "instant_bookable_t                0.006417\n",
       "room_type_Shared room             0.000999\n",
       "dtype: float64"
      ]
     },
     "execution_count": 40,
     "metadata": {},
     "output_type": "execute_result"
    }
   ],
   "source": [
    "pd.Series(reg.feature_importances_,index=X.columns).sort_values(ascending=False)"
   ]
  },
  {
   "cell_type": "code",
   "execution_count": null,
   "metadata": {},
   "outputs": [],
   "source": [
    "# Q16 : To find out how good our model is in accurately predicting the price, we will assess its performance out of sample, \n",
    "# on our test dataset.\n",
    "# Using the test dataset, obtain predictions from the model finalised above. 70% of the time, the error is approximately \n",
    "# 33.41 or less"
   ]
  },
  {
   "cell_type": "code",
   "execution_count": 41,
   "metadata": {},
   "outputs": [
    {
     "data": {
      "text/html": [
       "<div>\n",
       "<style scoped>\n",
       "    .dataframe tbody tr th:only-of-type {\n",
       "        vertical-align: middle;\n",
       "    }\n",
       "\n",
       "    .dataframe tbody tr th {\n",
       "        vertical-align: top;\n",
       "    }\n",
       "\n",
       "    .dataframe thead th {\n",
       "        text-align: right;\n",
       "    }\n",
       "</style>\n",
       "<table border=\"1\" class=\"dataframe\">\n",
       "  <thead>\n",
       "    <tr style=\"text-align: right;\">\n",
       "      <th></th>\n",
       "      <th>price</th>\n",
       "    </tr>\n",
       "  </thead>\n",
       "  <tbody>\n",
       "    <tr>\n",
       "      <td>0.0</td>\n",
       "      <td>-244.448980</td>\n",
       "    </tr>\n",
       "    <tr>\n",
       "      <td>0.1</td>\n",
       "      <td>-49.361633</td>\n",
       "    </tr>\n",
       "    <tr>\n",
       "      <td>0.2</td>\n",
       "      <td>-24.044898</td>\n",
       "    </tr>\n",
       "    <tr>\n",
       "      <td>0.3</td>\n",
       "      <td>-11.034490</td>\n",
       "    </tr>\n",
       "    <tr>\n",
       "      <td>0.4</td>\n",
       "      <td>-2.586531</td>\n",
       "    </tr>\n",
       "    <tr>\n",
       "      <td>0.5</td>\n",
       "      <td>5.279592</td>\n",
       "    </tr>\n",
       "    <tr>\n",
       "      <td>0.6</td>\n",
       "      <td>12.441633</td>\n",
       "    </tr>\n",
       "    <tr>\n",
       "      <td>0.7</td>\n",
       "      <td>19.365306</td>\n",
       "    </tr>\n",
       "    <tr>\n",
       "      <td>0.8</td>\n",
       "      <td>28.884490</td>\n",
       "    </tr>\n",
       "    <tr>\n",
       "      <td>0.9</td>\n",
       "      <td>43.291633</td>\n",
       "    </tr>\n",
       "    <tr>\n",
       "      <td>1.0</td>\n",
       "      <td>227.083673</td>\n",
       "    </tr>\n",
       "  </tbody>\n",
       "</table>\n",
       "</div>"
      ],
      "text/plain": [
       "          price\n",
       "0.0 -244.448980\n",
       "0.1  -49.361633\n",
       "0.2  -24.044898\n",
       "0.3  -11.034490\n",
       "0.4   -2.586531\n",
       "0.5    5.279592\n",
       "0.6   12.441633\n",
       "0.7   19.365306\n",
       "0.8   28.884490\n",
       "0.9   43.291633\n",
       "1.0  227.083673"
      ]
     },
     "execution_count": 41,
     "metadata": {},
     "output_type": "execute_result"
    }
   ],
   "source": [
    "actual_price=y_test\n",
    "predicted_price=reg.predict(X_test)\n",
    "error=predicted_price-actual_price\n",
    "error=error.to_frame() \n",
    "error.quantile([0,0.1,0.2,0.3,0.4,0.5,0.6,0.7,0.8,0.9,1])"
   ]
  },
  {
   "cell_type": "code",
   "execution_count": null,
   "metadata": {},
   "outputs": [],
   "source": [
    "# Q17 : To find out how good our model is in accurately predicting the price,we will assess its performance out of sample,\n",
    "#on our test dataset.\n",
    "\n",
    "# Create a scatter between, actual price and error. Based on this scatter, will you be more confident about predictions where \n",
    "# actual price is less than 200?"
   ]
  },
  {
   "cell_type": "code",
   "execution_count": 43,
   "metadata": {},
   "outputs": [
    {
     "data": {
      "text/plain": [
       "<matplotlib.collections.PathCollection at 0xeea4ef19c8>"
      ]
     },
     "execution_count": 43,
     "metadata": {},
     "output_type": "execute_result"
    },
    {
     "data": {
      "image/png": "[encoded data removed]",
      "text/plain": [
       "<Figure size 432x288 with 1 Axes>"
      ]
     },
     "metadata": {
      "needs_background": "light"
     },
     "output_type": "display_data"
    }
   ],
   "source": [
    "import matplotlib.pyplot as plt\n",
    "plt.scatter(actual_price,error)"
   ]
  }
 ],
 "metadata": {
  "kernelspec": {
   "display_name": "Python 3",
   "language": "python",
   "name": "python3"
  },
  "language_info": {
   "codemirror_mode": {
    "name": "ipython",
    "version": 3
   },
   "file_extension": ".py",
   "mimetype": "text/x-python",
   "name": "python",
   "nbconvert_exporter": "python",
   "pygments_lexer": "ipython3",
   "version": "3.7.4"
  }
 },
 "nbformat": 4,
 "nbformat_minor": 2
}
